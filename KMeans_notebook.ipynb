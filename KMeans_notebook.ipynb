{
 "cells": [
  {
   "cell_type": "code",
   "execution_count": 18,
   "metadata": {},
   "outputs": [],
   "source": [
    "import pandas as pd\n",
    "import numpy as np\n",
    "from sklearn.preprocessing import StandardScaler, OneHotEncoder\n",
    "from sklearn.compose import ColumnTransformer\n",
    "from sklearn.pipeline import Pipeline\n",
    "from sklearn.impute import SimpleImputer"
   ]
  },
  {
   "cell_type": "code",
   "execution_count": 19,
   "metadata": {},
   "outputs": [],
   "source": [
    "df_transaction = pd.read_csv(\"../Data Cafe test/Data Cafe Test Before Interview/dh_transactions.csv\",sep=',')\n",
    "df_product = pd.read_csv('../Data Cafe test/Data Cafe Test Before Interview/dh_product_lookup.csv',sep=\",\")\n",
    "\n",
    "df = df_transaction.merge(df_product[['upc','product_description','commodity','brand','product_size']], how='left', on='upc')\n",
    "\n",
    "# Create features\n",
    "df['month'] = df_transaction['week'] % 12 # 1 is jan, 0 is dec\n",
    "df['day_of_week'] = df_transaction['day'] % 7 # 1 is monday, 0 is sunday\n",
    "df['week_of_month'] = (df_transaction['day'] // 7) % 4 + 1"
   ]
  },
  {
   "cell_type": "code",
   "execution_count": 20,
   "metadata": {},
   "outputs": [],
   "source": [
    "month_names = {1: \"Jan\", 2: \"Feb\", 3: \"Mar\", 4: \"Apr\", 5: \"May\", 6: \"Jun\",\n",
    "               7: \"Jul\", 8: \"Aug\", 9: \"Sep\", 10: \"Oct\", 11: \"Nov\", 0: \"Dec\"}\n",
    "\n",
    "day_of_week_names = {1: \"Monday\", 2: \"Tuesday\", 3: \"Wednesday\", 4: \"Thursday\",\n",
    "                     5: \"Friday\", 6: \"Saturday\", 0: \"Sunday\"}\n",
    "\n",
    "# We should keep the numerical data for ML.\n",
    "df['month_name'] = df['month'].map(month_names)\n",
    "df['day_of_week_name'] = df['day_of_week'].map(day_of_week_names)"
   ]
  },
  {
   "cell_type": "code",
   "execution_count": 21,
   "metadata": {},
   "outputs": [],
   "source": [
    "df['upc'] = df['upc'].astype(str)\n",
    "df['geography'] = df['geography'].astype(str)\n",
    "df['store'] = df['store'].astype(str)"
   ]
  },
  {
   "cell_type": "code",
   "execution_count": 22,
   "metadata": {},
   "outputs": [
    {
     "name": "stdout",
     "output_type": "stream",
     "text": [
      "<class 'pandas.core.frame.DataFrame'>\n",
      "RangeIndex: 5197681 entries, 0 to 5197680\n",
      "Data columns (total 20 columns):\n",
      " #   Column               Dtype  \n",
      "---  ------               -----  \n",
      " 0   upc                  object \n",
      " 1   dollar_sales         float64\n",
      " 2   units                int64  \n",
      " 3   time_of_transaction  int64  \n",
      " 4   geography            object \n",
      " 5   week                 int64  \n",
      " 6   household            int64  \n",
      " 7   store                object \n",
      " 8   basket               int64  \n",
      " 9   day                  int64  \n",
      " 10  coupon               int64  \n",
      " 11  product_description  object \n",
      " 12  commodity            object \n",
      " 13  brand                object \n",
      " 14  product_size         object \n",
      " 15  month                int64  \n",
      " 16  day_of_week          int64  \n",
      " 17  week_of_month        int64  \n",
      " 18  month_name           object \n",
      " 19  day_of_week_name     object \n",
      "dtypes: float64(1), int64(10), object(9)\n",
      "memory usage: 793.1+ MB\n"
     ]
    }
   ],
   "source": [
    "df.info()"
   ]
  },
  {
   "cell_type": "code",
   "execution_count": 23,
   "metadata": {},
   "outputs": [],
   "source": [
    "# Drop uneccessay columns\n",
    "df = df.drop(['basket','product_description', 'month', 'day', 'week', 'product_size'], axis=1)"
   ]
  },
  {
   "cell_type": "code",
   "execution_count": 24,
   "metadata": {},
   "outputs": [
    {
     "name": "stdout",
     "output_type": "stream",
     "text": [
      "<class 'pandas.core.frame.DataFrame'>\n",
      "RangeIndex: 5197681 entries, 0 to 5197680\n",
      "Data columns (total 14 columns):\n",
      " #   Column               Dtype  \n",
      "---  ------               -----  \n",
      " 0   upc                  object \n",
      " 1   dollar_sales         float64\n",
      " 2   units                int64  \n",
      " 3   time_of_transaction  int64  \n",
      " 4   geography            object \n",
      " 5   household            int64  \n",
      " 6   store                object \n",
      " 7   coupon               int64  \n",
      " 8   commodity            object \n",
      " 9   brand                object \n",
      " 10  day_of_week          int64  \n",
      " 11  week_of_month        int64  \n",
      " 12  month_name           object \n",
      " 13  day_of_week_name     object \n",
      "dtypes: float64(1), int64(6), object(7)\n",
      "memory usage: 555.2+ MB\n"
     ]
    }
   ],
   "source": [
    "df.info()"
   ]
  },
  {
   "cell_type": "markdown",
   "metadata": {},
   "source": [
    "In K-Means clustering we have to convert some columns from int64 to object or string.\n",
    "\n",
    "Then, we will use One-Hot Encoding to make them be binary features.\n",
    "\n",
    "And there are many column, so we will use sklearn Pipeline"
   ]
  },
  {
   "cell_type": "code",
   "execution_count": 25,
   "metadata": {},
   "outputs": [],
   "source": [
    "# select columns for different preprocessing\n",
    "categorical_features = df.select_dtypes(include=['object']).columns.tolist()\n",
    "numerical_features = df.select_dtypes(include=['int64','float64']).columns.tolist()"
   ]
  },
  {
   "cell_type": "code",
   "execution_count": 26,
   "metadata": {},
   "outputs": [
    {
     "name": "stdout",
     "output_type": "stream",
     "text": [
      "['upc', 'geography', 'store', 'commodity', 'brand', 'month_name', 'day_of_week_name']\n",
      "\n",
      "['dollar_sales', 'units', 'time_of_transaction', 'household', 'coupon', 'day_of_week']\n"
     ]
    }
   ],
   "source": [
    "print(categorical_features)\n",
    "print()\n",
    "print(numerical_features)"
   ]
  },
  {
   "cell_type": "code",
   "execution_count": 27,
   "metadata": {},
   "outputs": [],
   "source": [
    "# Create preprocessing pipelines\n",
    "\n",
    "# JUST IN CASE that there are still have null values in numerical type columns.\n",
    "numerical_pipeline = Pipeline(steps=[(\"imputer\", SimpleImputer(strategy=\"median\")),\n",
    "                                     (\"scaler\", StandardScaler())\n",
    "                                     ]) \n",
    "\n",
    "# 'imputer' just in case that there are still have null values in object type columns.\n",
    "# apply one-hot encoder to object type column\n",
    "object_pipeline = Pipeline(steps=[(\"imputer\", SimpleImputer(strategy=\"constant\", fill_value=\"missing\")),\n",
    "                                       (\"onehot\", OneHotEncoder(handle_unknown=\"ignore\"))\n",
    "                                       ])"
   ]
  },
  {
   "cell_type": "code",
   "execution_count": 28,
   "metadata": {},
   "outputs": [],
   "source": [
    "# Combine preprocessor pipeline\n",
    "preprocessor = ColumnTransformer(\n",
    "                transformers=[\n",
    "                    (\"num\", numerical_pipeline, numerical_features),\n",
    "                    (\"obj\", object_pipeline, categorical_features)\n",
    "                ]\n",
    ")"
   ]
  },
  {
   "cell_type": "code",
   "execution_count": 29,
   "metadata": {},
   "outputs": [
    {
     "data": {
      "text/plain": [
       "(upc                    0\n",
       " dollar_sales           0\n",
       " units                  0\n",
       " time_of_transaction    0\n",
       " geography              0\n",
       " household              0\n",
       " store                  0\n",
       " coupon                 0\n",
       " commodity              0\n",
       " brand                  0\n",
       " day_of_week            0\n",
       " week_of_month          0\n",
       " month_name             0\n",
       " day_of_week_name       0\n",
       " dtype: int64,\n",
       " ['dollar_sales',\n",
       "  'units',\n",
       "  'time_of_transaction',\n",
       "  'household',\n",
       "  'coupon',\n",
       "  'day_of_week'])"
      ]
     },
     "execution_count": 29,
     "metadata": {},
     "output_type": "execute_result"
    }
   ],
   "source": [
    "# Preprocessing the data\n",
    "X_preprocessed = preprocessor.fit_transform(df)\n",
    "df.isnull().sum(), numerical_features"
   ]
  },
  {
   "cell_type": "code",
   "execution_count": 30,
   "metadata": {},
   "outputs": [
    {
     "name": "stderr",
     "output_type": "stream",
     "text": [
      "/opt/homebrew/anaconda3/lib/python3.11/site-packages/sklearn/cluster/_kmeans.py:870: FutureWarning: The default value of `n_init` will change from 3 to 'auto' in 1.4. Set the value of `n_init` explicitly to suppress the warning\n",
      "  warnings.warn(\n"
     ]
    },
    {
     "data": {
      "image/png": "[encoded data removed]",
      "text/plain": [
       "<Figure size 1000x600 with 1 Axes>"
      ]
     },
     "metadata": {},
     "output_type": "display_data"
    }
   ],
   "source": [
    "from sklearn.cluster import KMeans\n",
    "from sklearn.cluster import MiniBatchKMeans\n",
    "import matplotlib.pyplot as plt\n",
    "\n",
    "inertia = []\n",
    "k_range = range(1, 16)\n",
    "\n",
    "for k in k_range:\n",
    "    kmeans = MiniBatchKMeans(n_clusters=k, random_state=42)\n",
    "    kmeans.fit(X_preprocessed)\n",
    "    inertia.append(kmeans.inertia_)\n",
    "\n",
    "plt.figure(figsize=(10, 6))\n",
    "plt.plot(k_range, inertia, marker='o', linestyle='--')\n",
    "plt.title('Elbow Method For Optimal k (MiniBatchKMeans)')\n",
    "plt.xlabel('Number of clusters')\n",
    "plt.ylabel('Inertia')\n",
    "plt.xticks(k_range)\n",
    "plt.grid(True)\n",
    "plt.show()"
   ]
  },
  {
   "cell_type": "code",
   "execution_count": 31,
   "metadata": {},
   "outputs": [
    {
     "name": "stderr",
     "output_type": "stream",
     "text": [
      "/opt/homebrew/anaconda3/lib/python3.11/site-packages/sklearn/cluster/_kmeans.py:870: FutureWarning: The default value of `n_init` will change from 3 to 'auto' in 1.4. Set the value of `n_init` explicitly to suppress the warning\n",
      "  warnings.warn(\n",
      "/opt/homebrew/anaconda3/lib/python3.11/site-packages/sklearn/cluster/_kmeans.py:870: FutureWarning: The default value of `n_init` will change from 3 to 'auto' in 1.4. Set the value of `n_init` explicitly to suppress the warning\n",
      "  warnings.warn(\n",
      "/opt/homebrew/anaconda3/lib/python3.11/site-packages/sklearn/cluster/_kmeans.py:870: FutureWarning: The default value of `n_init` will change from 3 to 'auto' in 1.4. Set the value of `n_init` explicitly to suppress the warning\n",
      "  warnings.warn(\n",
      "/opt/homebrew/anaconda3/lib/python3.11/site-packages/sklearn/cluster/_kmeans.py:870: FutureWarning: The default value of `n_init` will change from 3 to 'auto' in 1.4. Set the value of `n_init` explicitly to suppress the warning\n",
      "  warnings.warn(\n",
      "/opt/homebrew/anaconda3/lib/python3.11/site-packages/sklearn/cluster/_kmeans.py:870: FutureWarning: The default value of `n_init` will change from 3 to 'auto' in 1.4. Set the value of `n_init` explicitly to suppress the warning\n",
      "  warnings.warn(\n",
      "/opt/homebrew/anaconda3/lib/python3.11/site-packages/sklearn/cluster/_kmeans.py:870: FutureWarning: The default value of `n_init` will change from 3 to 'auto' in 1.4. Set the value of `n_init` explicitly to suppress the warning\n",
      "  warnings.warn(\n",
      "/opt/homebrew/anaconda3/lib/python3.11/site-packages/sklearn/cluster/_kmeans.py:870: FutureWarning: The default value of `n_init` will change from 3 to 'auto' in 1.4. Set the value of `n_init` explicitly to suppress the warning\n",
      "  warnings.warn(\n",
      "/opt/homebrew/anaconda3/lib/python3.11/site-packages/sklearn/cluster/_kmeans.py:870: FutureWarning: The default value of `n_init` will change from 3 to 'auto' in 1.4. Set the value of `n_init` explicitly to suppress the warning\n",
      "  warnings.warn(\n",
      "/opt/homebrew/anaconda3/lib/python3.11/site-packages/sklearn/cluster/_kmeans.py:870: FutureWarning: The default value of `n_init` will change from 3 to 'auto' in 1.4. Set the value of `n_init` explicitly to suppress the warning\n",
      "  warnings.warn(\n",
      "/opt/homebrew/anaconda3/lib/python3.11/site-packages/sklearn/cluster/_kmeans.py:870: FutureWarning: The default value of `n_init` will change from 3 to 'auto' in 1.4. Set the value of `n_init` explicitly to suppress the warning\n",
      "  warnings.warn(\n",
      "/opt/homebrew/anaconda3/lib/python3.11/site-packages/sklearn/cluster/_kmeans.py:870: FutureWarning: The default value of `n_init` will change from 3 to 'auto' in 1.4. Set the value of `n_init` explicitly to suppress the warning\n",
      "  warnings.warn(\n",
      "/opt/homebrew/anaconda3/lib/python3.11/site-packages/sklearn/cluster/_kmeans.py:870: FutureWarning: The default value of `n_init` will change from 3 to 'auto' in 1.4. Set the value of `n_init` explicitly to suppress the warning\n",
      "  warnings.warn(\n",
      "/opt/homebrew/anaconda3/lib/python3.11/site-packages/sklearn/cluster/_kmeans.py:870: FutureWarning: The default value of `n_init` will change from 3 to 'auto' in 1.4. Set the value of `n_init` explicitly to suppress the warning\n",
      "  warnings.warn(\n",
      "/opt/homebrew/anaconda3/lib/python3.11/site-packages/sklearn/cluster/_kmeans.py:870: FutureWarning: The default value of `n_init` will change from 3 to 'auto' in 1.4. Set the value of `n_init` explicitly to suppress the warning\n",
      "  warnings.warn(\n",
      "/opt/homebrew/anaconda3/lib/python3.11/site-packages/sklearn/cluster/_kmeans.py:870: FutureWarning: The default value of `n_init` will change from 3 to 'auto' in 1.4. Set the value of `n_init` explicitly to suppress the warning\n",
      "  warnings.warn(\n"
     ]
    },
    {
     "data": {
      "image/png": "[encoded data removed]",
      "text/plain": [
       "<Figure size 1000x600 with 1 Axes>"
      ]
     },
     "metadata": {},
     "output_type": "display_data"
    }
   ],
   "source": [
    "# Use TruncatedSVD:\n",
    "# The error message suggests TruncatedSVD (Truncated Singular Value Decomposition) as a viable alternative.\n",
    "# TruncatedSVD is similar to PCA but can handle sparse matrices efficiently.\n",
    "\n",
    "from sklearn.decomposition import TruncatedSVD\n",
    "\n",
    "svd = TruncatedSVD(n_components=10)\n",
    "X_preprocessed_reduced = svd.fit_transform(X_preprocessed)\n",
    "\n",
    "inertia = []\n",
    "k_range = range(1, 16)\n",
    "\n",
    "for k in k_range:\n",
    "    kmeans = MiniBatchKMeans(n_clusters=k, random_state=42)\n",
    "    kmeans.fit(X_preprocessed_reduced)\n",
    "    inertia.append(kmeans.inertia_)\n",
    "\n",
    "plt.figure(figsize=(10, 6))\n",
    "plt.plot(k_range, inertia, marker='o', linestyle='--')\n",
    "plt.title('Elbow Method For Optimal k (TruncatedSVD)')\n",
    "plt.xlabel('Number of clusters')\n",
    "plt.ylabel('Inertia')\n",
    "plt.xticks(k_range)\n",
    "plt.grid(True)\n",
    "plt.show()"
   ]
  },
  {
   "cell_type": "markdown",
   "metadata": {},
   "source": [
    "### Proceeding with K-means clustering using 9 clusters"
   ]
  },
  {
   "cell_type": "code",
   "execution_count": 38,
   "metadata": {},
   "outputs": [
    {
     "name": "stderr",
     "output_type": "stream",
     "text": [
      "/opt/homebrew/anaconda3/lib/python3.11/site-packages/sklearn/cluster/_kmeans.py:870: FutureWarning: The default value of `n_init` will change from 10 to 'auto' in 1.4. Set the value of `n_init` explicitly to suppress the warning\n",
      "  warnings.warn(\n"
     ]
    },
    {
     "data": {
      "text/html": [
       "<div>\n",
       "<style scoped>\n",
       "    .dataframe tbody tr th:only-of-type {\n",
       "        vertical-align: middle;\n",
       "    }\n",
       "\n",
       "    .dataframe tbody tr th {\n",
       "        vertical-align: top;\n",
       "    }\n",
       "\n",
       "    .dataframe thead th {\n",
       "        text-align: right;\n",
       "    }\n",
       "</style>\n",
       "<table border=\"1\" class=\"dataframe\">\n",
       "  <thead>\n",
       "    <tr style=\"text-align: right;\">\n",
       "      <th></th>\n",
       "      <th>dollar_sales</th>\n",
       "      <th>units</th>\n",
       "      <th>time_of_transaction</th>\n",
       "      <th>household</th>\n",
       "      <th>coupon</th>\n",
       "      <th>day_of_week</th>\n",
       "      <th>week_of_month</th>\n",
       "    </tr>\n",
       "    <tr>\n",
       "      <th>Cluster</th>\n",
       "      <th></th>\n",
       "      <th></th>\n",
       "      <th></th>\n",
       "      <th></th>\n",
       "      <th></th>\n",
       "      <th></th>\n",
       "      <th></th>\n",
       "    </tr>\n",
       "  </thead>\n",
       "  <tbody>\n",
       "    <tr>\n",
       "      <th>0</th>\n",
       "      <td>1.552848</td>\n",
       "      <td>1.095821</td>\n",
       "      <td>1555.243638</td>\n",
       "      <td>79806.468327</td>\n",
       "      <td>0.000000</td>\n",
       "      <td>5.016231</td>\n",
       "      <td>2.522039</td>\n",
       "    </tr>\n",
       "    <tr>\n",
       "      <th>1</th>\n",
       "      <td>0.987845</td>\n",
       "      <td>1.000181</td>\n",
       "      <td>1708.266903</td>\n",
       "      <td>318871.472716</td>\n",
       "      <td>0.000000</td>\n",
       "      <td>1.453777</td>\n",
       "      <td>2.501075</td>\n",
       "    </tr>\n",
       "    <tr>\n",
       "      <th>2</th>\n",
       "      <td>4.402493</td>\n",
       "      <td>1.983560</td>\n",
       "      <td>1543.979553</td>\n",
       "      <td>220498.913578</td>\n",
       "      <td>0.000000</td>\n",
       "      <td>3.055511</td>\n",
       "      <td>2.511988</td>\n",
       "    </tr>\n",
       "    <tr>\n",
       "      <th>3</th>\n",
       "      <td>1.458075</td>\n",
       "      <td>1.240298</td>\n",
       "      <td>1492.824338</td>\n",
       "      <td>215905.398409</td>\n",
       "      <td>1.000000</td>\n",
       "      <td>2.835317</td>\n",
       "      <td>2.578083</td>\n",
       "    </tr>\n",
       "    <tr>\n",
       "      <th>4</th>\n",
       "      <td>1.565548</td>\n",
       "      <td>1.034748</td>\n",
       "      <td>1806.044070</td>\n",
       "      <td>322190.323785</td>\n",
       "      <td>0.000000</td>\n",
       "      <td>5.032560</td>\n",
       "      <td>2.525000</td>\n",
       "    </tr>\n",
       "    <tr>\n",
       "      <th>5</th>\n",
       "      <td>2.050464</td>\n",
       "      <td>1.014771</td>\n",
       "      <td>1789.888568</td>\n",
       "      <td>321562.831122</td>\n",
       "      <td>0.000000</td>\n",
       "      <td>1.469987</td>\n",
       "      <td>2.508368</td>\n",
       "    </tr>\n",
       "    <tr>\n",
       "      <th>6</th>\n",
       "      <td>1.549570</td>\n",
       "      <td>1.057572</td>\n",
       "      <td>1079.343580</td>\n",
       "      <td>299926.863689</td>\n",
       "      <td>0.000000</td>\n",
       "      <td>4.541517</td>\n",
       "      <td>2.538022</td>\n",
       "    </tr>\n",
       "    <tr>\n",
       "      <th>7</th>\n",
       "      <td>1.110635</td>\n",
       "      <td>1.089879</td>\n",
       "      <td>1515.179893</td>\n",
       "      <td>80059.282326</td>\n",
       "      <td>0.000000</td>\n",
       "      <td>1.304960</td>\n",
       "      <td>2.498286</td>\n",
       "    </tr>\n",
       "    <tr>\n",
       "      <th>8</th>\n",
       "      <td>6.140980</td>\n",
       "      <td>4.795069</td>\n",
       "      <td>1487.005208</td>\n",
       "      <td>221292.908265</td>\n",
       "      <td>0.005261</td>\n",
       "      <td>2.937055</td>\n",
       "      <td>2.595765</td>\n",
       "    </tr>\n",
       "    <tr>\n",
       "      <th>9</th>\n",
       "      <td>1.664316</td>\n",
       "      <td>1.051458</td>\n",
       "      <td>1062.920713</td>\n",
       "      <td>307284.955378</td>\n",
       "      <td>0.000000</td>\n",
       "      <td>0.743332</td>\n",
       "      <td>2.505512</td>\n",
       "    </tr>\n",
       "    <tr>\n",
       "      <th>10</th>\n",
       "      <td>1.802433</td>\n",
       "      <td>2.217787</td>\n",
       "      <td>1620.278776</td>\n",
       "      <td>286035.074612</td>\n",
       "      <td>0.000000</td>\n",
       "      <td>2.494579</td>\n",
       "      <td>2.551178</td>\n",
       "    </tr>\n",
       "    <tr>\n",
       "      <th>11</th>\n",
       "      <td>2.192117</td>\n",
       "      <td>1.079841</td>\n",
       "      <td>1550.436706</td>\n",
       "      <td>80674.910128</td>\n",
       "      <td>0.000000</td>\n",
       "      <td>1.369530</td>\n",
       "      <td>2.521505</td>\n",
       "    </tr>\n",
       "  </tbody>\n",
       "</table>\n",
       "</div>"
      ],
      "text/plain": [
       "         dollar_sales     units  time_of_transaction      household    coupon  \\\n",
       "Cluster                                                                         \n",
       "0            1.552848  1.095821          1555.243638   79806.468327  0.000000   \n",
       "1            0.987845  1.000181          1708.266903  318871.472716  0.000000   \n",
       "2            4.402493  1.983560          1543.979553  220498.913578  0.000000   \n",
       "3            1.458075  1.240298          1492.824338  215905.398409  1.000000   \n",
       "4            1.565548  1.034748          1806.044070  322190.323785  0.000000   \n",
       "5            2.050464  1.014771          1789.888568  321562.831122  0.000000   \n",
       "6            1.549570  1.057572          1079.343580  299926.863689  0.000000   \n",
       "7            1.110635  1.089879          1515.179893   80059.282326  0.000000   \n",
       "8            6.140980  4.795069          1487.005208  221292.908265  0.005261   \n",
       "9            1.664316  1.051458          1062.920713  307284.955378  0.000000   \n",
       "10           1.802433  2.217787          1620.278776  286035.074612  0.000000   \n",
       "11           2.192117  1.079841          1550.436706   80674.910128  0.000000   \n",
       "\n",
       "         day_of_week  week_of_month  \n",
       "Cluster                              \n",
       "0           5.016231       2.522039  \n",
       "1           1.453777       2.501075  \n",
       "2           3.055511       2.511988  \n",
       "3           2.835317       2.578083  \n",
       "4           5.032560       2.525000  \n",
       "5           1.469987       2.508368  \n",
       "6           4.541517       2.538022  \n",
       "7           1.304960       2.498286  \n",
       "8           2.937055       2.595765  \n",
       "9           0.743332       2.505512  \n",
       "10          2.494579       2.551178  \n",
       "11          1.369530       2.521505  "
      ]
     },
     "execution_count": 38,
     "metadata": {},
     "output_type": "execute_result"
    }
   ],
   "source": [
    "kmeans_final = KMeans(n_clusters=12, random_state=42)\n",
    "kmeans_final.fit(X_preprocessed)\n",
    "\n",
    "# Assign the clusters to the original data\n",
    "df[\"Cluster\"] = kmeans_final.labels_\n",
    "\n",
    "# Analyz the characteristics of each cluster\n",
    "numerical_summary = df.groupby(\"Cluster\").mean(numeric_only=True)\n",
    "\n",
    "\n",
    "# use this code when we want to find categorical_summary.\n",
    "\n",
    "# categorical_summary = df.groupby(\"Cluster\").agg(lambda x: x.mode()[0] if x.dtype=='object' else x.mean())  # Mode for categorical, mean for numerical\n",
    "# cluster_summary = pd.concat([numerical_summary, categorical_summary], axis=1)\n",
    "# Combine the summaries into a single DataFrame\n",
    "\n",
    "# Print the cluster summary (transposed for better readability)\n",
    "numerical_summary"
   ]
  },
  {
   "cell_type": "code",
   "execution_count": null,
   "metadata": {},
   "outputs": [],
   "source": []
  }
 ],
 "metadata": {
  "kernelspec": {
   "display_name": "base",
   "language": "python",
   "name": "python3"
  },
  "language_info": {
   "codemirror_mode": {
    "name": "ipython",
    "version": 3
   },
   "file_extension": ".py",
   "mimetype": "text/x-python",
   "name": "python",
   "nbconvert_exporter": "python",
   "pygments_lexer": "ipython3",
   "version": "3.11.7"
  }
 },
 "nbformat": 4,
 "nbformat_minor": 2
}
